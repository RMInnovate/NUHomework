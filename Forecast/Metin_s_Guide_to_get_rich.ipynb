{
 "cells": [
  {
   "cell_type": "markdown",
   "metadata": {},
   "source": [
    "# Metin's Ultimate Guide to get rich by forecasting stock returns using a Crystal Ball ...uhm...I mean ARIMA model"
   ]
  },
  {
   "cell_type": "code",
   "execution_count": 18,
   "metadata": {},
   "outputs": [],
   "source": [
    "# Import libraries and dependencies\n",
    "import numpy as np\n",
    "from numpy import random\n",
    "import pandas as pd\n",
    "import os\n",
    "import matplotlib.pyplot as plt\n",
    "import alpaca_trade_api as tradeapi\n",
    "from pathlib import Path\n",
    "%matplotlib inline"
   ]
  },
  {
   "cell_type": "code",
   "execution_count": 19,
   "metadata": {},
   "outputs": [],
   "source": [
    "# Load .env enviroment variables\n",
    "from dotenv import load_dotenv\n",
    "abs_path = Path(r'C:/Users/metin/Documents/nufintech/.env')\n",
    "load_dotenv(abs_path) \n",
    "\n",
    "\n",
    "# Set Alpaca API key and secret\n",
    "alpaca_api_key = os.getenv(\"ALPACA_API_KEY\")\n",
    "alpaca_secret_key = os.getenv(\"ALPACA_SECRET_KEY\")\n",
    "\n",
    "api = tradeapi.REST(alpaca_api_key, alpaca_secret_key, api_version='v2')"
   ]
  },
  {
   "cell_type": "code",
   "execution_count": 20,
   "metadata": {},
   "outputs": [],
   "source": [
    "# Set the ticker\n",
    "ticker = \"SPY\"\n",
    "\n",
    "# Set timeframe to '1D'\n",
    "timeframe = '1D'\n",
    "\n",
    "# Set start and end datetimes of 1 year, between now and 365 days ago.\n",
    "start_date = pd.Timestamp(\"2015-05-04\", tz=\"America/New_York\").isoformat()\n",
    "end_date = pd.Timestamp(\"2020-06-24\", tz=\"America/New_York\").isoformat()\n",
    "\n",
    "# Get 1 year's worth of historical data for AAPL\n",
    "df = api.get_barset(\n",
    "    ticker,\n",
    "    timeframe,\n",
    "    limit=None,\n",
    "    start=start_date,\n",
    "    end=end_date,\n",
    "    after=None,\n",
    "    until=None,\n",
    "    ).df\n",
    "\n"
   ]
  },
  {
   "cell_type": "code",
   "execution_count": 21,
   "metadata": {},
   "outputs": [
    {
     "data": {
      "text/html": [
       "<div>\n",
       "<style scoped>\n",
       "    .dataframe tbody tr th:only-of-type {\n",
       "        vertical-align: middle;\n",
       "    }\n",
       "\n",
       "    .dataframe tbody tr th {\n",
       "        vertical-align: top;\n",
       "    }\n",
       "\n",
       "    .dataframe thead tr th {\n",
       "        text-align: left;\n",
       "    }\n",
       "\n",
       "    .dataframe thead tr:last-of-type th {\n",
       "        text-align: right;\n",
       "    }\n",
       "</style>\n",
       "<table border=\"1\" class=\"dataframe\">\n",
       "  <thead>\n",
       "    <tr>\n",
       "      <th></th>\n",
       "      <th colspan=\"5\" halign=\"left\">SPY</th>\n",
       "    </tr>\n",
       "    <tr>\n",
       "      <th></th>\n",
       "      <th>open</th>\n",
       "      <th>high</th>\n",
       "      <th>low</th>\n",
       "      <th>close</th>\n",
       "      <th>volume</th>\n",
       "    </tr>\n",
       "    <tr>\n",
       "      <th>time</th>\n",
       "      <th></th>\n",
       "      <th></th>\n",
       "      <th></th>\n",
       "      <th></th>\n",
       "      <th></th>\n",
       "    </tr>\n",
       "  </thead>\n",
       "  <tbody>\n",
       "    <tr>\n",
       "      <th>2015-05-04 00:00:00-04:00</th>\n",
       "      <td>211.23</td>\n",
       "      <td>212.02</td>\n",
       "      <td>211.10</td>\n",
       "      <td>211.34</td>\n",
       "      <td>56064438</td>\n",
       "    </tr>\n",
       "    <tr>\n",
       "      <th>2015-05-05 00:00:00-04:00</th>\n",
       "      <td>211.03</td>\n",
       "      <td>211.46</td>\n",
       "      <td>208.73</td>\n",
       "      <td>208.90</td>\n",
       "      <td>91499087</td>\n",
       "    </tr>\n",
       "    <tr>\n",
       "      <th>2015-05-06 00:00:00-04:00</th>\n",
       "      <td>209.56</td>\n",
       "      <td>209.93</td>\n",
       "      <td>206.76</td>\n",
       "      <td>208.03</td>\n",
       "      <td>101710540</td>\n",
       "    </tr>\n",
       "    <tr>\n",
       "      <th>2015-05-07 00:00:00-04:00</th>\n",
       "      <td>207.92</td>\n",
       "      <td>209.38</td>\n",
       "      <td>207.52</td>\n",
       "      <td>208.87</td>\n",
       "      <td>70211277</td>\n",
       "    </tr>\n",
       "    <tr>\n",
       "      <th>2015-05-08 00:00:00-04:00</th>\n",
       "      <td>210.87</td>\n",
       "      <td>211.86</td>\n",
       "      <td>210.78</td>\n",
       "      <td>211.62</td>\n",
       "      <td>93316229</td>\n",
       "    </tr>\n",
       "  </tbody>\n",
       "</table>\n",
       "</div>"
      ],
      "text/plain": [
       "                              SPY                                   \n",
       "                             open    high     low   close     volume\n",
       "time                                                                \n",
       "2015-05-04 00:00:00-04:00  211.23  212.02  211.10  211.34   56064438\n",
       "2015-05-05 00:00:00-04:00  211.03  211.46  208.73  208.90   91499087\n",
       "2015-05-06 00:00:00-04:00  209.56  209.93  206.76  208.03  101710540\n",
       "2015-05-07 00:00:00-04:00  207.92  209.38  207.52  208.87   70211277\n",
       "2015-05-08 00:00:00-04:00  210.87  211.86  210.78  211.62   93316229"
      ]
     },
     "execution_count": 21,
     "metadata": {},
     "output_type": "execute_result"
    }
   ],
   "source": [
    "df.head()"
   ]
  },
  {
   "cell_type": "code",
   "execution_count": 22,
   "metadata": {},
   "outputs": [
    {
     "data": {
      "text/html": [
       "<div>\n",
       "<style scoped>\n",
       "    .dataframe tbody tr th:only-of-type {\n",
       "        vertical-align: middle;\n",
       "    }\n",
       "\n",
       "    .dataframe tbody tr th {\n",
       "        vertical-align: top;\n",
       "    }\n",
       "\n",
       "    .dataframe thead tr th {\n",
       "        text-align: left;\n",
       "    }\n",
       "\n",
       "    .dataframe thead tr:last-of-type th {\n",
       "        text-align: right;\n",
       "    }\n",
       "</style>\n",
       "<table border=\"1\" class=\"dataframe\">\n",
       "  <thead>\n",
       "    <tr>\n",
       "      <th></th>\n",
       "      <th colspan=\"5\" halign=\"left\">SPY</th>\n",
       "    </tr>\n",
       "    <tr>\n",
       "      <th></th>\n",
       "      <th>open</th>\n",
       "      <th>high</th>\n",
       "      <th>low</th>\n",
       "      <th>close</th>\n",
       "      <th>volume</th>\n",
       "    </tr>\n",
       "    <tr>\n",
       "      <th>time</th>\n",
       "      <th></th>\n",
       "      <th></th>\n",
       "      <th></th>\n",
       "      <th></th>\n",
       "      <th></th>\n",
       "    </tr>\n",
       "  </thead>\n",
       "  <tbody>\n",
       "    <tr>\n",
       "      <th>2020-06-18 00:00:00-04:00</th>\n",
       "      <td>310.005</td>\n",
       "      <td>312.30</td>\n",
       "      <td>309.5100</td>\n",
       "      <td>311.74</td>\n",
       "      <td>128833528</td>\n",
       "    </tr>\n",
       "    <tr>\n",
       "      <th>2020-06-19 00:00:00-04:00</th>\n",
       "      <td>314.170</td>\n",
       "      <td>314.38</td>\n",
       "      <td>306.5300</td>\n",
       "      <td>308.56</td>\n",
       "      <td>223746346</td>\n",
       "    </tr>\n",
       "    <tr>\n",
       "      <th>2020-06-22 00:00:00-04:00</th>\n",
       "      <td>307.990</td>\n",
       "      <td>311.05</td>\n",
       "      <td>306.7500</td>\n",
       "      <td>310.68</td>\n",
       "      <td>61401568</td>\n",
       "    </tr>\n",
       "    <tr>\n",
       "      <th>2020-06-23 00:00:00-04:00</th>\n",
       "      <td>313.490</td>\n",
       "      <td>314.49</td>\n",
       "      <td>311.6101</td>\n",
       "      <td>312.03</td>\n",
       "      <td>56029323</td>\n",
       "    </tr>\n",
       "    <tr>\n",
       "      <th>2020-06-24 00:00:00-04:00</th>\n",
       "      <td>309.840</td>\n",
       "      <td>310.51</td>\n",
       "      <td>302.1000</td>\n",
       "      <td>304.12</td>\n",
       "      <td>109892325</td>\n",
       "    </tr>\n",
       "  </tbody>\n",
       "</table>\n",
       "</div>"
      ],
      "text/plain": [
       "                               SPY                                     \n",
       "                              open    high       low   close     volume\n",
       "time                                                                   \n",
       "2020-06-18 00:00:00-04:00  310.005  312.30  309.5100  311.74  128833528\n",
       "2020-06-19 00:00:00-04:00  314.170  314.38  306.5300  308.56  223746346\n",
       "2020-06-22 00:00:00-04:00  307.990  311.05  306.7500  310.68   61401568\n",
       "2020-06-23 00:00:00-04:00  313.490  314.49  311.6101  312.03   56029323\n",
       "2020-06-24 00:00:00-04:00  309.840  310.51  302.1000  304.12  109892325"
      ]
     },
     "execution_count": 22,
     "metadata": {},
     "output_type": "execute_result"
    }
   ],
   "source": [
    "df.tail()"
   ]
  },
  {
   "cell_type": "code",
   "execution_count": 23,
   "metadata": {},
   "outputs": [
    {
     "data": {
      "text/html": [
       "<div>\n",
       "<style scoped>\n",
       "    .dataframe tbody tr th:only-of-type {\n",
       "        vertical-align: middle;\n",
       "    }\n",
       "\n",
       "    .dataframe tbody tr th {\n",
       "        vertical-align: top;\n",
       "    }\n",
       "\n",
       "    .dataframe thead th {\n",
       "        text-align: right;\n",
       "    }\n",
       "</style>\n",
       "<table border=\"1\" class=\"dataframe\">\n",
       "  <thead>\n",
       "    <tr style=\"text-align: right;\">\n",
       "      <th></th>\n",
       "      <th>close</th>\n",
       "    </tr>\n",
       "  </thead>\n",
       "  <tbody>\n",
       "    <tr>\n",
       "      <th>2020-06-18</th>\n",
       "      <td>311.74</td>\n",
       "    </tr>\n",
       "    <tr>\n",
       "      <th>2020-06-19</th>\n",
       "      <td>308.56</td>\n",
       "    </tr>\n",
       "    <tr>\n",
       "      <th>2020-06-22</th>\n",
       "      <td>310.68</td>\n",
       "    </tr>\n",
       "    <tr>\n",
       "      <th>2020-06-23</th>\n",
       "      <td>312.03</td>\n",
       "    </tr>\n",
       "    <tr>\n",
       "      <th>2020-06-24</th>\n",
       "      <td>304.12</td>\n",
       "    </tr>\n",
       "  </tbody>\n",
       "</table>\n",
       "</div>"
      ],
      "text/plain": [
       "             close\n",
       "2020-06-18  311.74\n",
       "2020-06-19  308.56\n",
       "2020-06-22  310.68\n",
       "2020-06-23  312.03\n",
       "2020-06-24  304.12"
      ]
     },
     "execution_count": 23,
     "metadata": {},
     "output_type": "execute_result"
    }
   ],
   "source": [
    "# Drop Outer Table Level\n",
    "df = df.droplevel(axis=1, level=0)\n",
    "\n",
    "# Use the drop function to drop extra columns\n",
    "df.drop(columns=['open', 'high', 'low', 'volume'], inplace=True)\n",
    "\n",
    "# Since this is daily data, we can keep only the date (remove the time) component of the data\n",
    "df.index = df.index.date\n",
    "\n",
    "df.tail()"
   ]
  },
  {
   "cell_type": "code",
   "execution_count": 24,
   "metadata": {},
   "outputs": [
    {
     "data": {
      "text/html": [
       "<div>\n",
       "<style scoped>\n",
       "    .dataframe tbody tr th:only-of-type {\n",
       "        vertical-align: middle;\n",
       "    }\n",
       "\n",
       "    .dataframe tbody tr th {\n",
       "        vertical-align: top;\n",
       "    }\n",
       "\n",
       "    .dataframe thead th {\n",
       "        text-align: right;\n",
       "    }\n",
       "</style>\n",
       "<table border=\"1\" class=\"dataframe\">\n",
       "  <thead>\n",
       "    <tr style=\"text-align: right;\">\n",
       "      <th></th>\n",
       "      <th>close</th>\n",
       "    </tr>\n",
       "  </thead>\n",
       "  <tbody>\n",
       "    <tr>\n",
       "      <th>2015-05-05</th>\n",
       "      <td>-0.011545</td>\n",
       "    </tr>\n",
       "    <tr>\n",
       "      <th>2015-05-06</th>\n",
       "      <td>-0.004165</td>\n",
       "    </tr>\n",
       "    <tr>\n",
       "      <th>2015-05-07</th>\n",
       "      <td>0.004038</td>\n",
       "    </tr>\n",
       "    <tr>\n",
       "      <th>2015-05-08</th>\n",
       "      <td>0.013166</td>\n",
       "    </tr>\n",
       "    <tr>\n",
       "      <th>2015-05-11</th>\n",
       "      <td>-0.004773</td>\n",
       "    </tr>\n",
       "  </tbody>\n",
       "</table>\n",
       "</div>"
      ],
      "text/plain": [
       "               close\n",
       "2015-05-05 -0.011545\n",
       "2015-05-06 -0.004165\n",
       "2015-05-07  0.004038\n",
       "2015-05-08  0.013166\n",
       "2015-05-11 -0.004773"
      ]
     },
     "execution_count": 24,
     "metadata": {},
     "output_type": "execute_result"
    }
   ],
   "source": [
    "# Use the `pct_change` function to calculate daily returns of AAPL\n",
    "daily_returns = df.pct_change()\n",
    "daily_returns.dropna(inplace=True)\n",
    "daily_returns.head()"
   ]
  },
  {
   "cell_type": "code",
   "execution_count": 25,
   "metadata": {},
   "outputs": [
    {
     "data": {
      "text/plain": [
       "<matplotlib.axes._subplots.AxesSubplot at 0x23c165bcf08>"
      ]
     },
     "execution_count": 25,
     "metadata": {},
     "output_type": "execute_result"
    },
    {
     "data": {
      "image/png": "[encoded data removed]",
      "text/plain": [
       "<Figure size 432x288 with 1 Axes>"
      ]
     },
     "metadata": {
      "needs_background": "light"
     },
     "output_type": "display_data"
    }
   ],
   "source": [
    "daily_returns.plot()"
   ]
  },
  {
   "cell_type": "markdown",
   "metadata": {},
   "source": [
    "### Up until now, we coppped out and pulled of some \"bush league forecasting\" by using the average daily return to forecast"
   ]
  },
  {
   "cell_type": "code",
   "execution_count": 8,
   "metadata": {},
   "outputs": [
    {
     "data": {
      "text/plain": [
       "0.000353930204059928"
      ]
     },
     "execution_count": 8,
     "metadata": {},
     "output_type": "execute_result"
    }
   ],
   "source": [
    "# Use the `mean` function to calculate the mean of daily returns for AAPL\n",
    "avg_daily_return = daily_returns.mean()['close']\n",
    "avg_daily_return"
   ]
  },
  {
   "cell_type": "markdown",
   "metadata": {},
   "source": [
    "# Now we are ready to forecast Major League Style with ARIMAs"
   ]
  },
  {
   "cell_type": "code",
   "execution_count": 26,
   "metadata": {},
   "outputs": [],
   "source": [
    "def metin_s_dickey_fuller(series):\n",
    "    from statsmodels.tsa.stattools import adfuller\n",
    "    series.dropna(inplace=True)\n",
    "    result = adfuller(series)\n",
    "    print('ADF Statistic: %f' % result[0])\n",
    "    print('p-value:        %f ' % result[1])\n",
    "    print('Lags used:      %d' % result[2])\n",
    "    print('Critical Values:')\n",
    "    for key, value in result[4].items():\n",
    "        print('%s: %.3f' % (key, value))\n",
    "    if result[1]<0.05:\n",
    "        print(f'\\nWohoo! The p-value is below the significance level of 0.05. \\n\\nWe can reject the hypothesis that the time series is non-stationary. GO PACK GO!!!')\n",
    "    else: \n",
    "        print('\\nwah waaah..p-value is above the significance level of 0.05. \\n\\nWe cannot reject the hypothesis that the time series is non-stationary. Better luck next time buddy!!')\n",
    "    \n",
    "#http://www.insightsbot.com/augmented-dickey-fuller-test-in-python/"
   ]
  },
  {
   "cell_type": "code",
   "execution_count": 27,
   "metadata": {},
   "outputs": [
    {
     "name": "stdout",
     "output_type": "stream",
     "text": [
      "ADF Statistic: -10.961881\n",
      "p-value:        0.000000 \n",
      "Lags used:      8\n",
      "Critical Values:\n",
      "1%: -3.435\n",
      "5%: -2.864\n",
      "10%: -2.568\n",
      "\n",
      "Wohoo! The p-value is below the significance level of 0.05. \n",
      "\n",
      "We can reject the hypothesis that the time series is non-stationary. GO PACK GO!!!\n"
     ]
    }
   ],
   "source": [
    "metin_s_dickey_fuller(daily_returns['close'])"
   ]
  },
  {
   "cell_type": "code",
   "execution_count": 28,
   "metadata": {},
   "outputs": [
    {
     "data": {
      "image/png": "[encoded data removed]",
      "text/plain": [
       "<Figure size 432x288 with 1 Axes>"
      ]
     },
     "execution_count": 28,
     "metadata": {},
     "output_type": "execute_result"
    },
    {
     "data": {
      "image/png": "[encoded data removed]",
      "text/plain": [
       "<Figure size 432x288 with 1 Axes>"
      ]
     },
     "metadata": {
      "needs_background": "light"
     },
     "output_type": "display_data"
    }
   ],
   "source": [
    "from statsmodels.graphics.tsaplots import plot_acf, plot_pacf\n",
    "plot_acf(daily_returns['close'], lags=20)"
   ]
  },
  {
   "cell_type": "code",
   "execution_count": 29,
   "metadata": {},
   "outputs": [
    {
     "data": {
      "image/png": "[encoded data removed]",
      "text/plain": [
       "<Figure size 432x288 with 1 Axes>"
      ]
     },
     "execution_count": 29,
     "metadata": {},
     "output_type": "execute_result"
    },
    {
     "data": {
      "image/png": "[encoded data removed]",
      "text/plain": [
       "<Figure size 432x288 with 1 Axes>"
      ]
     },
     "metadata": {
      "needs_background": "light"
     },
     "output_type": "display_data"
    }
   ],
   "source": [
    "plot_pacf(daily_returns['close'], zero=False, lags=20)"
   ]
  },
  {
   "cell_type": "code",
   "execution_count": 30,
   "metadata": {},
   "outputs": [
    {
     "name": "stderr",
     "output_type": "stream",
     "text": [
      "C:\\Users\\metin\\anaconda3\\lib\\site-packages\\statsmodels\\tsa\\base\\tsa_model.py:218: ValueWarning: A date index has been provided, but it has no associated frequency information and so will be ignored when e.g. forecasting.\n",
      "  ' ignored when e.g. forecasting.', ValueWarning)\n"
     ]
    }
   ],
   "source": [
    "from statsmodels.tsa.arima_model import ARIMA\n",
    "model = ARIMA(daily_returns['close'], order=(1, 0, 1))"
   ]
  },
  {
   "cell_type": "code",
   "execution_count": 31,
   "metadata": {},
   "outputs": [],
   "source": [
    "results = model.fit()"
   ]
  },
  {
   "cell_type": "code",
   "execution_count": 32,
   "metadata": {},
   "outputs": [
    {
     "data": {
      "text/html": [
       "<table class=\"simpletable\">\n",
       "<caption>ARMA Model Results</caption>\n",
       "<tr>\n",
       "  <th>Dep. Variable:</th>       <td>close</td>      <th>  No. Observations:  </th>   <td>1295</td>   \n",
       "</tr>\n",
       "<tr>\n",
       "  <th>Model:</th>            <td>ARMA(1, 1)</td>    <th>  Log Likelihood     </th> <td>3917.510</td> \n",
       "</tr>\n",
       "<tr>\n",
       "  <th>Method:</th>             <td>css-mle</td>     <th>  S.D. of innovations</th>   <td>0.012</td>  \n",
       "</tr>\n",
       "<tr>\n",
       "  <th>Date:</th>          <td>Thu, 25 Jun 2020</td> <th>  AIC                </th> <td>-7827.020</td>\n",
       "</tr>\n",
       "<tr>\n",
       "  <th>Time:</th>              <td>19:01:24</td>     <th>  BIC                </th> <td>-7806.355</td>\n",
       "</tr>\n",
       "<tr>\n",
       "  <th>Sample:</th>                <td>0</td>        <th>  HQIC               </th> <td>-7819.265</td>\n",
       "</tr>\n",
       "<tr>\n",
       "  <th></th>                       <td> </td>        <th>                     </th>     <td> </td>    \n",
       "</tr>\n",
       "</table>\n",
       "<table class=\"simpletable\">\n",
       "<tr>\n",
       "       <td></td>          <th>coef</th>     <th>std err</th>      <th>z</th>      <th>P>|z|</th>  <th>[0.025</th>    <th>0.975]</th>  \n",
       "</tr>\n",
       "<tr>\n",
       "  <th>const</th>       <td>    0.0004</td> <td>    0.000</td> <td>    1.277</td> <td> 0.202</td> <td>   -0.000</td> <td>    0.001</td>\n",
       "</tr>\n",
       "<tr>\n",
       "  <th>ar.L1.close</th> <td>   -0.4182</td> <td>    0.080</td> <td>   -5.222</td> <td> 0.000</td> <td>   -0.575</td> <td>   -0.261</td>\n",
       "</tr>\n",
       "<tr>\n",
       "  <th>ma.L1.close</th> <td>    0.2176</td> <td>    0.084</td> <td>    2.599</td> <td> 0.009</td> <td>    0.053</td> <td>    0.382</td>\n",
       "</tr>\n",
       "</table>\n",
       "<table class=\"simpletable\">\n",
       "<caption>Roots</caption>\n",
       "<tr>\n",
       "    <td></td>   <th>            Real</th>  <th>         Imaginary</th> <th>         Modulus</th>  <th>        Frequency</th>\n",
       "</tr>\n",
       "<tr>\n",
       "  <th>AR.1</th> <td>          -2.3911</td> <td>          +0.0000j</td> <td>           2.3911</td> <td>           0.5000</td>\n",
       "</tr>\n",
       "<tr>\n",
       "  <th>MA.1</th> <td>          -4.5960</td> <td>          +0.0000j</td> <td>           4.5960</td> <td>           0.5000</td>\n",
       "</tr>\n",
       "</table>"
      ],
      "text/plain": [
       "<class 'statsmodels.iolib.summary.Summary'>\n",
       "\"\"\"\n",
       "                              ARMA Model Results                              \n",
       "==============================================================================\n",
       "Dep. Variable:                  close   No. Observations:                 1295\n",
       "Model:                     ARMA(1, 1)   Log Likelihood                3917.510\n",
       "Method:                       css-mle   S.D. of innovations              0.012\n",
       "Date:                Thu, 25 Jun 2020   AIC                          -7827.020\n",
       "Time:                        19:01:24   BIC                          -7806.355\n",
       "Sample:                             0   HQIC                         -7819.265\n",
       "                                                                              \n",
       "===============================================================================\n",
       "                  coef    std err          z      P>|z|      [0.025      0.975]\n",
       "-------------------------------------------------------------------------------\n",
       "const           0.0004      0.000      1.277      0.202      -0.000       0.001\n",
       "ar.L1.close    -0.4182      0.080     -5.222      0.000      -0.575      -0.261\n",
       "ma.L1.close     0.2176      0.084      2.599      0.009       0.053       0.382\n",
       "                                    Roots                                    \n",
       "=============================================================================\n",
       "                  Real          Imaginary           Modulus         Frequency\n",
       "-----------------------------------------------------------------------------\n",
       "AR.1           -2.3911           +0.0000j            2.3911            0.5000\n",
       "MA.1           -4.5960           +0.0000j            4.5960            0.5000\n",
       "-----------------------------------------------------------------------------\n",
       "\"\"\""
      ]
     },
     "execution_count": 32,
     "metadata": {},
     "output_type": "execute_result"
    }
   ],
   "source": [
    "results.summary()"
   ]
  },
  {
   "cell_type": "code",
   "execution_count": 33,
   "metadata": {},
   "outputs": [
    {
     "data": {
      "text/plain": [
       "<matplotlib.axes._subplots.AxesSubplot at 0x23c167f6c08>"
      ]
     },
     "execution_count": 33,
     "metadata": {},
     "output_type": "execute_result"
    },
    {
     "data": {
      "image/png": "[encoded data removed]",
      "text/plain": [
       "<Figure size 432x288 with 1 Axes>"
      ]
     },
     "metadata": {
      "needs_background": "light"
     },
     "output_type": "display_data"
    }
   ],
   "source": [
    "# Visualize the forecast\n",
    "pd.DataFrame(results.forecast(steps=5)[0]).plot(title=\"S&P 500 Returns\")"
   ]
  },
  {
   "cell_type": "code",
   "execution_count": 34,
   "metadata": {},
   "outputs": [
    {
     "data": {
      "text/plain": [
       "array([0.00560534])"
      ]
     },
     "execution_count": 34,
     "metadata": {},
     "output_type": "execute_result"
    }
   ],
   "source": [
    "results.forecast(steps=1)[0]"
   ]
  },
  {
   "cell_type": "markdown",
   "metadata": {},
   "source": [
    "If you are up for the challenge, submit your forecast for the S&P 500 return (close to close) as a simple binary variable to our forecasting competition(1=positive return, 0=negative return), starting Mon Jul 29th 2020 until Friday Jul 3rd 2020. Forecasts have to be submitted for the next day by midnight the day before."
   ]
  },
  {
   "cell_type": "code",
   "execution_count": null,
   "metadata": {},
   "outputs": [],
   "source": []
  }
 ],
 "metadata": {
  "kernelspec": {
   "display_name": "Python 3",
   "language": "python",
   "name": "python3"
  },
  "language_info": {
   "codemirror_mode": {
    "name": "ipython",
    "version": 3
   },
   "file_extension": ".py",
   "mimetype": "text/x-python",
   "name": "python",
   "nbconvert_exporter": "python",
   "pygments_lexer": "ipython3",
   "version": "3.7.6"
  }
 },
 "nbformat": 4,
 "nbformat_minor": 4
}
