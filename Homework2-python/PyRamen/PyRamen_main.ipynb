{
 "cells": [
  {
   "cell_type": "code",
   "execution_count": 183,
   "metadata": {},
   "outputs": [],
   "source": [
    "#Import the necessary libraries for reading CSV files\n",
    "import csv\n",
    "from pathlib import Path"
   ]
  },
  {
   "cell_type": "code",
   "execution_count": 184,
   "metadata": {},
   "outputs": [],
   "source": [
    "#Set path for the menu and sales CSV files\n",
    "menu_input_file = Path('menu_data.csv')\n",
    "sales_input_file = Path('sales_data.csv')"
   ]
  },
  {
   "cell_type": "markdown",
   "metadata": {},
   "source": [
    "#### Read the Menu and Sales Data"
   ]
  },
  {
   "cell_type": "code",
   "execution_count": 185,
   "metadata": {},
   "outputs": [],
   "source": [
    "#Define variables\n",
    "#Create list to store raw data from menu and sales CSV\n",
    "menu = []\n",
    "sales = []\n",
    "\n",
    "#Open menu CSV file and append data to list\n",
    "with open(menu_input_file, 'r') as menu_csvfile:\n",
    "    #Set reader object\n",
    "    menu_csvreader = csv.reader(menu_csvfile, delimiter = ',')\n",
    " \n",
    "    #Read the header\n",
    "    csv_header = next(menu_csvreader)\n",
    "\n",
    "    #Iterate through the data \n",
    "    for menu_row in menu_csvreader:\n",
    "        #Append row to list if row not empty\n",
    "        if menu_row[0] !='':\n",
    "            menu.append(menu_row)\n",
    "\n",
    "#Open sales CSV file and append data to list\n",
    "with open(sales_input_file, 'r') as sales_csvfile:\n",
    "    #Set reader object\n",
    "    sales_csvreader = csv.reader(sales_csvfile, delimiter = ',')\n",
    " \n",
    "    #Read the header\n",
    "    csv_header = next(sales_csvreader)\n",
    "\n",
    "    #Iterate through the data \n",
    "    for sales_row in sales_csvreader:\n",
    "        #Append row to list if row not empty\n",
    "        if sales_row[0] !='':\n",
    "            sales.append(sales_row)"
   ]
  },
  {
   "cell_type": "markdown",
   "metadata": {},
   "source": [
    "#### Manipulate the Data"
   ]
  },
  {
   "cell_type": "code",
   "execution_count": 186,
   "metadata": {},
   "outputs": [
    {
     "name": "stdout",
     "output_type": "stream",
     "text": [
      "Item not in sales data:  edamame\n",
      "Item not in sales data:  house salad\n",
      "Item not in sales data:  cucumber sunomono salad\n",
      "Item not in sales data:  hiyashi wakame seaweed salad\n",
      "Item not in sales data:  agedashi tofu\n",
      "Item not in sales data:  hiyayakko tofu\n",
      "Item not in sales data:  pork floss bao\n",
      "Item not in sales data:  kakuni bao\n",
      "Item not in sales data:  edamame fried gyoza (vegan)\n",
      "Item not in sales data:  fried gyoza\n",
      "Item not in sales data:  takoyaki\n",
      "Item not in sales data:  rock shrimp tempura\n",
      "Item not in sales data:  soft-shell crab tempura\n",
      "Item not in sales data:  ebi katsu shrimp bao\n",
      "Item not in sales data:  green tea\n",
      "Item not in sales data:  coke\n",
      "Item not in sales data:  black sesame ice cream\n",
      "Item not in sales data:  matcha ice cream\n",
      "Item not in sales data:  mango mochi ice cream\n",
      "Item not in sales data:  strawberry mochi ice cream\n",
      "Item not in sales data:  black sesame creme brulee\n"
     ]
    }
   ],
   "source": [
    "#Define variables\n",
    "#Create dictionary to hold future aggregated per-product results\n",
    "#Dictionary keys will be 01-count, 02-revenue, 03-cogs, 04-profit\n",
    "report = {}\n",
    "\n",
    "#Counter for number of sales items\n",
    "sales_count = 0\n",
    "\n",
    "#List for menu items not sold\n",
    "not_sold = []\n",
    "\n",
    "#Loop through sales list to find unique sales items and calculate the quantities of each\n",
    "for i in sales:\n",
    "    #count number of sales entries\n",
    "    sales_count += 1\n",
    "    \n",
    "    #Check if menu item already exists as key in report\n",
    "    #If key exists, increment quantity of sales items\n",
    "    #If key doesn't exist, define new nested dictionary for the sales item and set initial quantity accordingly\n",
    "    if i[4] in report:\n",
    "        report[i[4]]['01-count'] += int(i[3])\n",
    "    else:\n",
    "        report[i[4]] = {\"01-count\"   : 0,\n",
    "                        \"02-revenue\" : 0,\n",
    "                        \"03-cogs\"    : 0,\n",
    "                        \"04-profit\"  : 0,\n",
    "                        }\n",
    "        report[i[4]][\"01-count\"] = int(i[3])\n",
    "\n",
    "#For each sales item in report, scan the menu item to calculate the revenue, cost of goods sold, and profit\n",
    "#For each menu item that wasn't sold, append to not_sold list\n",
    "for key in report:\n",
    "    for i in menu:\n",
    "        if key == i[0]:\n",
    "            report[key]['02-revenue'] += int(i[3]) * report[key]['01-count']\n",
    "            report[key]['03-cogs'] += int(i[4]) * report[key]['01-count']\n",
    "            report[key]['04-profit'] += (int(i[3]) - int(i[4])) * report[key]['01-count']\n",
    "        elif not (i[0] in not_sold) and not (i[0] in report):\n",
    "            not_sold.append(i[0])\n",
    "            print(f'Item not in sales data:  {i[0]}')\n"
   ]
  },
  {
   "cell_type": "markdown",
   "metadata": {},
   "source": [
    "#### Save data"
   ]
  },
  {
   "cell_type": "code",
   "execution_count": 187,
   "metadata": {},
   "outputs": [],
   "source": [
    "#Set the path for the new CSV file\n",
    "output_file = Path(\"PyRamen_Results.txt\")"
   ]
  },
  {
   "cell_type": "code",
   "execution_count": 188,
   "metadata": {},
   "outputs": [],
   "source": [
    "#Open output file\n",
    "with open(output_file, 'w') as csvoutput:\n",
    "    csvoutput.write('\\t\\t PyRamen Results \\n\\n')\n",
    "    csvoutput.write(f'The total number of sales entries is: {sales_count} \\n\\n')\n",
    "    csvoutput.write('The count, revenue, cost of goods sold, and profit for each menu item sold is as follows: \\n')\n",
    "    \n",
    "    #Loop through records and write to output file\n",
    "    for key in report:\n",
    "        csvoutput.write(f'{key} {report[key]} \\n')\n",
    "        \n",
    "    csvoutput.write('\\n The menu items that did not sale are as follows: \\n')\n",
    "    for i in not_sold:\n",
    "        csvoutput.write(f'\\t\\b {i}\\n')"
   ]
  }
 ],
 "metadata": {
  "kernelspec": {
   "display_name": "Python 3",
   "language": "python",
   "name": "python3"
  },
  "language_info": {
   "codemirror_mode": {
    "name": "ipython",
    "version": 3
   },
   "file_extension": ".py",
   "mimetype": "text/x-python",
   "name": "python",
   "nbconvert_exporter": "python",
   "pygments_lexer": "ipython3",
   "version": "3.7.6"
  }
 },
 "nbformat": 4,
 "nbformat_minor": 4
}
