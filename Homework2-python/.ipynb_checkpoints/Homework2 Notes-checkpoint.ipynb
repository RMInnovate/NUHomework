{
 "cells": [
  {
   "cell_type": "markdown",
   "metadata": {},
   "source": [
    "commands to use with "
   ]
  },
  {
   "cell_type": "markdown",
   "metadata": {},
   "source": [
    "git config --global user.name \"your-name\"\n",
    "git config --global user.email \"your-email\""
   ]
  },
  {
   "cell_type": "markdown",
   "metadata": {},
   "source": [
    "git clone <repo-address>\n",
    "git add .\n",
    "git commit -m \"reason for change\"\n",
    "git push origin master"
   ]
  },
  {
   "cell_type": "markdown",
   "metadata": {},
   "source": [
    "to push back onto repo\n",
    "go to NUHomework directory\n",
    "git add .\n",
    "git commit -m \"description of change\"\n",
    "git push origin master"
   ]
  },
  {
   "cell_type": "code",
   "execution_count": null,
   "metadata": {},
   "outputs": [],
   "source": []
  }
 ],
 "metadata": {
  "kernelspec": {
   "display_name": "Python 3",
   "language": "python",
   "name": "python3"
  },
  "language_info": {
   "codemirror_mode": {
    "name": "ipython",
    "version": 3
   },
   "file_extension": ".py",
   "mimetype": "text/x-python",
   "name": "python",
   "nbconvert_exporter": "python",
   "pygments_lexer": "ipython3",
   "version": "3.7.6"
  }
 },
 "nbformat": 4,
 "nbformat_minor": 4
}
