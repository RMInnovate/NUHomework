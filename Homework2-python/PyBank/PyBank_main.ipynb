{
 "cells": [
  {
   "cell_type": "code",
   "execution_count": 3,
   "metadata": {},
   "outputs": [],
   "source": [
    "#Import the necessary libraries for reading CSV files.\n",
    "import csv\n",
    "from pathlib import Path"
   ]
  },
  {
   "cell_type": "code",
   "execution_count": 4,
   "metadata": {},
   "outputs": [],
   "source": [
    "#Set the path for the CSV file\n",
    "file_path = Path(\"budget_data.csv\")"
   ]
  },
  {
   "cell_type": "code",
   "execution_count": 30,
   "metadata": {},
   "outputs": [
    {
     "name": "stdout",
     "output_type": "stream",
     "text": [
      "PyBank Financial Analysis\n",
      "--------------------------\n",
      "Total Months: 86\n",
      "Total: $38382578\n",
      "Average Change: $-2315.12\n",
      "Greatest Increase in Profits: Feb-2012 ($1926159)\n",
      "Greatest Increase in Profits: Sep-2013 ($-2196167)\n"
     ]
    }
   ],
   "source": [
    "#Define variables\n",
    "num_months = 0\n",
    "net_profit = 0\n",
    "\n",
    "prev_profit = 0\n",
    "curr_profit = 0\n",
    "diff_profit = 0\n",
    "sum_diff_profit = 0\n",
    "avg_chg = 0\n",
    "\n",
    "max_diff_profit = 0\n",
    "max_date = \"\"\n",
    "max_profit = 0\n",
    "min_diff_profit = 0\n",
    "min_date = \"\"\n",
    "min_profit = 0\n",
    "\n",
    "#Open the CSV file.\n",
    "with open(file_path, 'r') as csvfile:\n",
    "    #Read data\n",
    "    csvreader = csv.reader(csvfile, delimiter = ',')\n",
    " \n",
    "    #Read the header row first (skip this step if there is no header)\n",
    "    csv_header = next(csvreader)\n",
    "    \n",
    "    #Create new header\n",
    "\n",
    "\n",
    "    #Iterate through the data \n",
    "    for row in csvreader:\n",
    "        #Sum total number of months\n",
    "        num_months += 1\n",
    "\n",
    "        #Sum net profit/loss\n",
    "        net_profit += int(row[1])\n",
    " \n",
    "        #Calculate and append month to month change to file\n",
    "        prev_profit = curr_profit\n",
    "        curr_profit = int(row[1])\n",
    "        \n",
    "        if (num_months > 1):\n",
    "            diff_profit = curr_profit - prev_profit\n",
    "            sum_diff_profit += diff_profit\n",
    "        #csvreader.append(diff_profit)\n",
    "        \n",
    "        #Greatest increase in profits\n",
    "        if (diff_profit > max_diff_profit):\n",
    "            max_diff_profit = diff_profit\n",
    "            max_date = row[0]\n",
    "            max_profit = diff_profit\n",
    "        \n",
    "        #Greatest decrease in profits\n",
    "        if (diff_profit < min_diff_profit):\n",
    "            min_diff_profit = diff_profit\n",
    "            min_date = row[0]\n",
    "            min_profit = diff_profit\n",
    "\n",
    "#Calculate average profit change\n",
    "avg_chg = round(sum_diff_profit / (num_months-1),2)\n",
    "        \n",
    "#Display Results\n",
    "print(\"PyBank Financial Analysis\")\n",
    "print(\"--------------------------\")\n",
    "print(f'Total Months: {num_months}')\n",
    "print(f'Total: ${net_profit}')\n",
    "print(f'Average Change: ${avg_chg}')\n",
    "print(f'Greatest Increase in Profits: {max_date} (${max_profit})')\n",
    "print(f'Greatest Increase in Profits: {min_date} (${min_profit})')\n",
    "        \n"
   ]
  }
 ],
 "metadata": {
  "kernelspec": {
   "display_name": "Python 3",
   "language": "python",
   "name": "python3"
  },
  "language_info": {
   "codemirror_mode": {
    "name": "ipython",
    "version": 3
   },
   "file_extension": ".py",
   "mimetype": "text/x-python",
   "name": "python",
   "nbconvert_exporter": "python",
   "pygments_lexer": "ipython3",
   "version": "3.7.6"
  }
 },
 "nbformat": 4,
 "nbformat_minor": 4
}
