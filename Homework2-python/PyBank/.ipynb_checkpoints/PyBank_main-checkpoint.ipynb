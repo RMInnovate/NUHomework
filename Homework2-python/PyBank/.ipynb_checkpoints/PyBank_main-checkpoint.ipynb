{
 "cells": [
  {
   "cell_type": "markdown",
   "metadata": {},
   "source": [
    "### Read input file and analyze data"
   ]
  },
  {
   "cell_type": "code",
   "execution_count": 69,
   "metadata": {},
   "outputs": [],
   "source": [
    "#Import the necessary libraries for reading CSV files\n",
    "import csv\n",
    "from pathlib import Path"
   ]
  },
  {
   "cell_type": "code",
   "execution_count": 70,
   "metadata": {},
   "outputs": [],
   "source": [
    "#Set the path for the CSV file\n",
    "input_file_path = Path(\"budget_data.csv\")"
   ]
  },
  {
   "cell_type": "code",
   "execution_count": 71,
   "metadata": {},
   "outputs": [
    {
     "name": "stdout",
     "output_type": "stream",
     "text": [
      "PyBank Financial Analysis\n",
      "--------------------------\n",
      "Total Months: 86\n",
      "Total: $38382578\n",
      "Average Change: $-2315.12\n",
      "Greatest Increase in Profits: Feb-2012 ($1926159)\n",
      "Greatest Decrease in Profits: Sep-2013 ($-2196167)\n"
     ]
    }
   ],
   "source": [
    "#Define variables\n",
    "#Create list to store row data from CSV\n",
    "records = []\n",
    "\n",
    "#Create variables to sum number of month and total profit/losses\n",
    "num_months = 0\n",
    "net_profit = 0\n",
    "\n",
    "#Create variables to compare monthly profit deltas and calculate avgerage profit change\n",
    "prev_profit = 0\n",
    "curr_profit = 0\n",
    "diff_profit = 0\n",
    "sum_diff_profit = 0\n",
    "avg_chg = 0\n",
    "\n",
    "#Create varables to compare and store max profit and min loss\n",
    "max_diff_profit = 0\n",
    "max_date = \"\"\n",
    "max_profit = 0\n",
    "min_diff_profit = 0\n",
    "min_date = \"\"\n",
    "min_profit = 0\n",
    "\n",
    "#Open the CSV file\n",
    "with open(input_file_path, 'r') as csvfile:\n",
    "    #Set reader object\n",
    "    csvreader = csv.reader(csvfile, delimiter = ',')\n",
    " \n",
    "    #Read the header\n",
    "    csv_header = next(csvreader)\n",
    "    \n",
    "    #Create new column\n",
    "    csv_header.append(\"Monlthly Delta\")\n",
    "    records.append(csv_header)\n",
    "\n",
    "    #Iterate through the data \n",
    "    for row in csvreader:\n",
    "        #Sum total number of months\n",
    "        num_months += 1\n",
    "\n",
    "        #Sum net profit/loss\n",
    "        net_profit += int(row[1])\n",
    " \n",
    "        #Calculate monthly profit delta\n",
    "        prev_profit = curr_profit\n",
    "        curr_profit = int(row[1])\n",
    "        \n",
    "        if (num_months > 1):\n",
    "            diff_profit = curr_profit - prev_profit\n",
    "            sum_diff_profit += diff_profit\n",
    "        \n",
    "        #Append monthly profit delta to records\n",
    "        row.append(diff_profit)\n",
    "        records.append(row)\n",
    "        \n",
    "        #Greatest increase in profits\n",
    "        if (diff_profit > max_diff_profit):\n",
    "            max_diff_profit = diff_profit\n",
    "            max_date = row[0]\n",
    "            max_profit = diff_profit\n",
    "        \n",
    "        #Greatest decrease in profits\n",
    "        if (diff_profit < min_diff_profit):\n",
    "            min_diff_profit = diff_profit\n",
    "            min_date = row[0]\n",
    "            min_profit = diff_profit\n",
    "\n",
    "#Calculate average profit change\n",
    "avg_chg = round(sum_diff_profit / (num_months-1),2)\n",
    "        \n",
    "#Append Results to records\n",
    "records.append(['','',''])\n",
    "records.append(['','PyBank Financial Analysis',''])\n",
    "records.append(['','--------------------------',''])\n",
    "records.append([f'Total Months:','',num_months])\n",
    "records.append([f'Total:','',f'${net_profit}'])\n",
    "records.append([f'Average Change:','',f'${avg_chg}'])\n",
    "records.append([f'Greatest Increase in Profits:',max_date,f'(${max_profit})'])\n",
    "records.append([f'Greatest Decrease in Profits:',min_date,f'(${min_profit})'])\n",
    "\n",
    "#Display results\n",
    "print(\"PyBank Financial Analysis\")\n",
    "print(\"--------------------------\")\n",
    "print(f'Total Months: {num_months}')\n",
    "print(f'Total: ${net_profit}')\n",
    "print(f'Average Change: ${avg_chg}')\n",
    "print(f'Greatest Increase in Profits: {max_date} (${max_profit})')\n",
    "print(f'Greatest Decrease in Profits: {min_date} (${min_profit})')  \n"
   ]
  },
  {
   "cell_type": "markdown",
   "metadata": {},
   "source": [
    "### Write analysis to new file"
   ]
  },
  {
   "cell_type": "code",
   "execution_count": 72,
   "metadata": {},
   "outputs": [],
   "source": [
    "#Set the path for the new CSV file\n",
    "new_output_file = Path(\"budget_data_analysis.csv\")"
   ]
  },
  {
   "cell_type": "code",
   "execution_count": 73,
   "metadata": {},
   "outputs": [],
   "source": [
    "#Open output file\n",
    "with open(new_output_file, 'w') as csvoutput:\n",
    "    csvwriter = csv.writer(csvoutput, delimiter = ',')\n",
    "    \n",
    "    #Loop through records and write to output file\n",
    "    for record in records:\n",
    "        csvwriter.writerow(record)"
   ]
  }
 ],
 "metadata": {
  "kernelspec": {
   "display_name": "Python 3",
   "language": "python",
   "name": "python3"
  },
  "language_info": {
   "codemirror_mode": {
    "name": "ipython",
    "version": 3
   },
   "file_extension": ".py",
   "mimetype": "text/x-python",
   "name": "python",
   "nbconvert_exporter": "python",
   "pygments_lexer": "ipython3",
   "version": "3.7.6"
  }
 },
 "nbformat": 4,
 "nbformat_minor": 4
}
