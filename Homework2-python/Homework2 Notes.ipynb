{
 "cells": [
  {
   "cell_type": "markdown",
   "metadata": {},
   "source": [
    "commands to use with "
   ]
  },
  {
   "cell_type": "markdown",
   "metadata": {},
   "source": [
    "git config --global user.name \"your-name\"\n",
    "git config --global user.email \"your-email\""
   ]
  },
  {
   "cell_type": "markdown",
   "metadata": {},
   "source": [
    "git clone <repo-address>\n",
    "git add .\n",
    "git commit -m \"reason for change\"\n",
    "git push origin master"
   ]
  },
  {
   "cell_type": "markdown",
   "metadata": {},
   "source": [
    "to push back onto repo\n",
    "go to NUHomework directory\n",
    "git add .\n",
    "git commit -m \"description of change\"\n",
    "git push origin master"
   ]
  },
  {
   "cell_type": "code",
   "execution_count": null,
   "metadata": {},
   "outputs": [],
   "source": []
  },
  {
   "cell_type": "markdown",
   "metadata": {},
   "source": [
    "How to clone the GitLab Repo to computer"
   ]
  },
  {
   "cell_type": "markdown",
   "metadata": {},
   "source": [
    "1) If you haven't already cloned the repo from gitlab, run the following command using your terminal or command prompt (I suggest from your desktop): \n",
    "$ git clone https://nu.bootcampcontent.com/NU-Coding-Bootcamp/nu-chi-fin-pt-04-2020-u-c.git\n",
    "IF YOU GET PROMPTED FOR USER AND PASSWORD USE YOUR GIT*LAB* ACCOUNT NAME AND PASS.\n",
    "\n",
    "2) If you already cloned the gitlab repo following the instructions from the course prep then navigate to that directory:\n",
    "$ cd nu-chi-fin-pt-04-2020-u-c\n",
    "\n",
    "3) Run the following command: \n",
    "$ git pull origin master\n",
    "\n",
    "4) If you have issues pulling run this:\n",
    "$ git stash\n",
    "$ git pull origin master\n",
    "$ git stash pop\n",
    "\n",
    "You should now download any files that have been pushed since the last time you ran the command. Feel free to work inside the repos in this folder, but you will not be able to git pull or push from here, or use it to hand in your homework (this is done from your personal gitHUB and not the class repo for gitLAB."
   ]
  }
 ],
 "metadata": {
  "kernelspec": {
   "display_name": "Python 3",
   "language": "python",
   "name": "python3"
  },
  "language_info": {
   "codemirror_mode": {
    "name": "ipython",
    "version": 3
   },
   "file_extension": ".py",
   "mimetype": "text/x-python",
   "name": "python",
   "nbconvert_exporter": "python",
   "pygments_lexer": "ipython3",
   "version": "3.7.6"
  }
 },
 "nbformat": 4,
 "nbformat_minor": 4
}
